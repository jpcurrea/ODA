{
 "cells": [
  {
   "cell_type": "markdown",
   "id": "7a54f05e",
   "metadata": {},
   "source": [
    "The ODA leverages the periodic nature of the ommatidial lattice found in many compound eyes. By using the 2D Fourier Transform, the ODA eliminates spatial detail that is either much smaller or larger than the ommatidia. With that removed, the ommatidia are a lot simpler to detect.\n",
    "# The Fourier Transform\n",
    "The fourier transform decomposes any function or sequence of values into a sequence of sine functions with specific frequencies, amplitudes, and phases. The original function or sequence can often be recovered exactly using the inverse fourier transform. \n",
    "![FFT demo](https://upload.wikimedia.org/wikipedia/commons/2/2b/Fourier_series_and_transform.gif)\n",
    "\n",
    "This allows for the detection and extraction of periodic components in signals and extends into arbitrarily many dimensions. As a result, we can use the 2D discrete form of the Fourier transform, the Fast Fourier Transform (FFT) and the its inverse (iFFT), to detect the frequency corresponding to the ommatidial diameters and filter out those far above and below. These are both available functions in the numpy.fft library.\n",
    "\n",
    "For more information on the Fourier Transform see [this wikipedia page](https://en.wikipedia.org/wiki/Fourier_transform) and I highly recommend the following beatiful video by [3Blue1Brown](https://www.youtube.com/channel/UCYO_jab_esuFRV4b17AJtAw):"
   ]
  },
  {
   "cell_type": "code",
   "execution_count": 1,
   "id": "bb1b18ed",
   "metadata": {},
   "outputs": [
    {
     "data": {
      "text/html": [
       "\n",
       "        <iframe\n",
       "            width=\"600\"\n",
       "            height=\"400\"\n",
       "            src=\"https://www.youtube.com/embed/r6sGWTCMz2k\"\n",
       "            frameborder=\"0\"\n",
       "            allowfullscreen\n",
       "            \n",
       "        ></iframe>\n",
       "        "
      ],
      "text/plain": [
       "<IPython.lib.display.IFrame at 0x16c6024ffd0>"
      ]
     },
     "execution_count": 1,
     "metadata": {},
     "output_type": "execute_result"
    }
   ],
   "source": [
    "from IPython.display import IFrame\n",
    "IFrame(src=\"https://www.youtube.com/embed/r6sGWTCMz2k\", width=600, height=400)"
   ]
  },
  {
   "cell_type": "markdown",
   "id": "db4ed5a7",
   "metadata": {},
   "source": [
    "# Gratings\n",
    "The sinusoidal elements of a 2D image are called gratings and, like the sine functions in a 1D FFT, these are represented by a frequency, amplitude, and phase. In addition, 2D gratings have an orientation on the 2D plane, referring to the angle perpendicular to the grating's wavefront.\n",
    "\n",
    "In the 2D grating, the spatial frequency refers to the number of oscillations from dark to light per degree (measured in cycles/°) and the amplitude refers to the contrast between the brightest and darkest points (maximum of 1). In principal, any digital image can be exactly decomposed into a finite set of these gratings. For instance, see the animation below from [The Python Coding Book](https://thepythoncodingbook.com/2021/08/30/2d-fourier-transform-in-python-and-fourier-synthesis-of-images/) of how you can increasingly approximate an image of the Big Ben with higher and higher spatial frequencies of different orientations. The final composite is equivalent to the original image."
   ]
  },
  {
   "cell_type": "code",
   "execution_count": 2,
   "id": "8f902d22",
   "metadata": {},
   "outputs": [
    {
     "name": "stderr",
     "output_type": "stream",
     "text": [
      "UsageError: Line magic function `%matpotlib` not found.\n"
     ]
    }
   ],
   "source": [
    "IFrame(src=\"https://videopress.com/embed/Z9xWcJw4\", width=600, height=400)"
   ]
  },
  {
   "cell_type": "markdown",
   "id": "19abfd66",
   "metadata": {},
   "source": [
    "To explore what this means for the 2D FFT, here's a class to generate and display gratings. If it imports correctly, the code below should diplay 9 gratings with different spatial frequencies and contrasts. Each grating is assumed to occupy a 180° FOV, so a spatial frequency of 1 cycle/° would display 180 cycles (from dark to light) in the whole image. Contrast is defined as Michelson contrast, which represents the contrast between the darkest (A) and brightest points (B) as (A-B)/(A+B). \n",
    "### Playing with Gratings\n",
    "I made a few functions to help us better understand gratings and how they can help us detect ommatidia. For example, below I use the class I defined called Grating, which can display gratings of all sorts. Below I import the module and print out the docstringfor this Grating class."
   ]
  },
  {
   "cell_type": "code",
   "execution_count": 3,
   "id": "6482bd71",
   "metadata": {
    "scrolled": true
   },
   "outputs": [
    {
     "data": {
      "image/png": "[encoded data removed]",
      "text/plain": [
       "<Figure size 500x500 with 9 Axes>"
      ]
     },
     "metadata": {},
     "output_type": "display_data"
    },
    {
     "name": "stdout",
     "output_type": "stream",
     "text": [
      "Help on class Grating in module __main__:\n",
      "\n",
      "class Grating(builtins.object)\n",
      " |  Grating(sf=1, tf=0, contrast=1, orientation=0, size=(1000, 1000), window=0.2, fov=180, phase=0, ioa=None)\n",
      " |  \n",
      " |  Class for making a sinusoidal grating.\n",
      " |  \n",
      " |  \n",
      " |  Parameters\n",
      " |  ----------\n",
      " |  sf : float, default=1\n",
      " |      The number of oscillations from dark to light per degree \n",
      " |      (in cycles/degree).\n",
      " |  tf : float, default=1\n",
      " |      The number of oscillations from dark to light per second \n",
      " |      (in Hz) for a moving grating.\n",
      " |  contrast : float, default=1\n",
      " |      The Michelson contrast between the darkest and lightest values, \n",
      " |      amounting to the amplitude of the sinusoidal component.\n",
      " |  orientation : float, default=0\n",
      " |      The 2D orientation of the grating, perpendicular to its wavefront.\n",
      " |  size : (float, float), default=(1000, 1000)\n",
      " |      The size of the image to generate for displaying the grating. Optional\n",
      " |      If using a specific fov and ioa.\n",
      " |  window : float, default=.2\n",
      " |      The standard deviation of a kernal used for the gaussian window.\n",
      " |  fov : float, default=180\n",
      " |      The field of view that the grating occupies.\n",
      " |  phase : float, default=0\n",
      " |      The offset of the sine function when t=0.\n",
      " |  ioa : float, default=None\n",
      " |      An optional way of defining the image size using the FOV and inter-ommatidial\n",
      " |      or -receptor angle. This supercedes the size parameter.\n",
      " |  \n",
      " |  Methods defined here:\n",
      " |  \n",
      " |  __init__(self, sf=1, tf=0, contrast=1, orientation=0, size=(1000, 1000), window=0.2, fov=180, phase=0, ioa=None)\n",
      " |      Initialize self.  See help(type(self)) for accurate signature.\n",
      " |  \n",
      " |  display(self, cmap='Greys', ax=None)\n",
      " |  \n",
      " |  gauss_window(self)\n",
      " |  \n",
      " |  make_img(self, t)\n",
      " |  \n",
      " |  ----------------------------------------------------------------------\n",
      " |  Data descriptors defined here:\n",
      " |  \n",
      " |  __dict__\n",
      " |      dictionary for instance variables (if defined)\n",
      " |  \n",
      " |  __weakref__\n",
      " |      list of weak references to the object (if defined)\n",
      "\n"
     ]
    }
   ],
   "source": [
    "with open('how_to_demo_tools.py', 'r') as tools:\n",
    "    exec(tools.read())\n",
    "%matplotlib widget\n",
    "\n",
    "help(Grating)"
   ]
  },
  {
   "cell_type": "code",
   "execution_count": 4,
   "id": "4e044bd0",
   "metadata": {},
   "outputs": [
    {
     "data": {
      "application/vnd.jupyter.widget-view+json": {
       "model_id": "9cda86bec9bb46b2a1cf09332f876338",
       "version_major": 2,
       "version_minor": 0
      },
      "image/png": "[encoded data removed]",
      "text/html": [
       "\n",
       "            <div style=\"display: inline-block;\">\n",
       "                <div class=\"jupyter-widgets widget-label\" style=\"text-align: center;\">\n",
       "                    Figure\n",
       "                </div>\n",
       "                <img src='data:image/png;base64,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' width=800.0/>\n",
       "            </div>\n",
       "        "
      ],
      "text/plain": [
       "Canvas(toolbar=Toolbar(toolitems=[('Home', 'Reset original view', 'home', 'home'), ('Back', 'Back to previous …"
      ]
     },
     "metadata": {},
     "output_type": "display_data"
    }
   ],
   "source": [
    "fig = plt.figure(figsize=(8,8))\n",
    "i = 1\n",
    "cs = np.array([.1, .5, 1])\n",
    "# sfs = np.round(1/np.array([18, 36, 72]), 3)\n",
    "sfs = np.array([.01, .05, .1])\n",
    "for c in cs[::-1]:\n",
    "    for sf in sfs:\n",
    "        ax = plt.subplot(3, 3, i)\n",
    "        g = Grating(sf=sf, contrast=c, window=None)\n",
    "        g.fig = fig\n",
    "        g.display(ax=ax)\n",
    "        ax.set_xticks([])\n",
    "        ax.set_yticks([])\n",
    "        if (i - 1)%3 == 0:\n",
    "            plt.ylabel(c)\n",
    "        if i > 6:\n",
    "            plt.xlabel(sf)\n",
    "        if i == 4:\n",
    "            plt.ylabel(f\"Michelson Contrast\\n{c}\")\n",
    "        if i == 8:\n",
    "            plt.xlabel(f\"{sf}\\nSpatial Frequency\\n(Cyc/°)\")\n",
    "        i += 1\n",
    "#plt.suptitle(\"gratings vary by contrast and spatial frequency\")\n",
    "plt.tight_layout()\n",
    "plt.show()"
   ]
  },
  {
   "cell_type": "markdown",
   "id": "0aa4dac8",
   "metadata": {},
   "source": [
    "## Play!\n",
    "Change the spatial frequency (sf), contrast, phase, and orientation of the grating below to see how it affects the display."
   ]
  },
  {
   "cell_type": "code",
   "execution_count": null,
   "id": "cd011743",
   "metadata": {},
   "outputs": [],
   "source": [
    "#%matplotlib inline\n",
    "g = Grating(sf=.05, contrast=.9, orientation=5, window=None)# sf in cycles/deg, orientation in deg\n",
    "g.display()"
   ]
  },
  {
   "cell_type": "markdown",
   "id": "bc05d05b",
   "metadata": {},
   "source": [
    "## The 2D FFT measures grating parameters\n",
    "We should be able to find the input grating parameters as output of the 2D FFT. First we need to measure how contrast varies as a function of spatial frequency, generating what's called the reciprocal image from the FFT. Let's use a function to plot the reciprocal image and measure some important information like the fundamental spatial frequency and orientation. Below is the docstring for this function. Note that we are now adding a gaussian window to reduce edge artifacts. "
   ]
  },
  {
   "cell_type": "code",
   "execution_count": null,
   "id": "2bb3594b",
   "metadata": {
    "scrolled": false
   },
   "outputs": [],
   "source": [
    "help(process_reciprocal)"
   ]
  },
  {
   "cell_type": "markdown",
   "id": "c4be2ac8",
   "metadata": {},
   "source": [
    "## Let's test it\n",
    "Now we have a function that will plot the image and its reciprocal image and extract relevant information about the original image. We can test it with the block below. Feel free to change the input grating parameters (in all caps) and see how it affects the different output parameters. In particular, notice how the polar angle and radius of the red arrow in the reciprocal image corresponds to the grating spatial frequency and orientation."
   ]
  },
  {
   "cell_type": "code",
   "execution_count": null,
   "id": "28866b57",
   "metadata": {},
   "outputs": [],
   "source": [
    "#%matplotlib inline\n",
    "#choose sf, contrast, and orientation of the grating\n",
    "SF= .5           # cyc/deg\n",
    "CONTRAST= 1      # Michelson (max=1)\n",
    "ORIENTATION= 120  # deg\n",
    "g = Grating(sf=SF, contrast=CONTRAST, orientation=ORIENTATION, window=.1)\n",
    "process_reciprocal(g.img, g.x, g.y, num_gratings=1)"
   ]
  },
  {
   "cell_type": "markdown",
   "id": "dd5f73c9",
   "metadata": {},
   "source": [
    "## Gratings combine independently\n",
    "You can do the same analysis for multiple combine gratings, simply look for as many peaks as components. \n",
    "### See what happens when you combine two gratings:"
   ]
  },
  {
   "cell_type": "code",
   "execution_count": null,
   "id": "b7ae9a3e",
   "metadata": {},
   "outputs": [],
   "source": [
    "#%matplotlib inline\n",
    "#let's make a plaid, which is the combination of two or more gratings\n",
    "g1 = Grating(sf=.3, contrast=1/2, orientation=60, window=.1)\n",
    "g2 = Grating(sf=.1, contrast=1/2, orientation=0, window=.1)\n",
    "img = g1.img+g2.img\n",
    "process_reciprocal(img, g1.x, g1.y, num_gratings=2)"
   ]
  },
  {
   "cell_type": "markdown",
   "id": "70911daa",
   "metadata": {},
   "source": [
    "## And 3 gratings:"
   ]
  },
  {
   "cell_type": "markdown",
   "id": "3f0aef77",
   "metadata": {},
   "source": [
    "The maxima from the reciprocal image correspond to the x- and y- frequencies of the fundamental grating. We can find them using the find_peaks function from the signal processing library of scipy. "
   ]
  },
  {
   "cell_type": "code",
   "execution_count": null,
   "id": "cba4dcf5",
   "metadata": {},
   "outputs": [],
   "source": [
    "#%matplotlib inline\n",
    "#let's make a plaid, which is the combination of two or more gratings\n",
    "g1 = Grating(sf=.3, contrast=1/3, orientation=60, window=.1)\n",
    "g2 = Grating(sf=.1, contrast=1/3, orientation=0, window=.1)\n",
    "g3 = Grating(sf=.2, contrast=1/3, orientation=120, window=.1)\n",
    "img = g1.img+g2.img+g3.img\n",
    "process_reciprocal(img, g1.x, g1.y, num_gratings=3)"
   ]
  },
  {
   "cell_type": "markdown",
   "id": "fc486530",
   "metadata": {},
   "source": [
    "## And when all 3 gratings have the same spatial frequency: look familiar?"
   ]
  },
  {
   "cell_type": "code",
   "execution_count": null,
   "id": "fb6d4721",
   "metadata": {},
   "outputs": [],
   "source": [
    "#let's make a plaid, which is the combination of two or more gratings\n",
    "g1 = Grating(sf=.3, contrast=1/3, orientation=60, window=.1)\n",
    "g2 = Grating(sf=.3, contrast=1/3, orientation=0, window=.1)\n",
    "g3 = Grating(sf=.3, contrast=1/3, orientation=120, window=.1)\n",
    "img = g1.img+g2.img+g3.img\n",
    "process_reciprocal(img, g1.x, g1.y, num_gratings=3)"
   ]
  },
  {
   "attachments": {},
   "cell_type": "markdown",
   "id": "f65fb48c",
   "metadata": {},
   "source": [
    "## Gratings in the compound eye<img src=\"https://raw.githubusercontent.com/jpcurrea/eye_tools/main/figs/oda_demo.png\" alt=\"drawing\" width=\"600\" align='right'/>\n",
    "Compound eyes often maximize light capture by arranging in a hexagonal lattice, the highest density arrangement possible for circles of the same size (https://en.wikipedia.org/wiki/Circle_packing). The ODA works by finding the gratings corresponding to the axes of the ommatidial lattice. First we identify these fundamental gratings in the reciprocal image using the FFT like we did with the generated gratings earlier. Then we zero out any gratings with spatial frequencies sufficiently above (in effect, those further from the center than) the maximum. Using the inverse FFT, we generate a version of the original image without any higher spatial frequencies (smaller details) than the ommatidial diameters. Finally, we use a peak finding algorithm to find the maxima in this smoothed out version of the original image.\n",
    "\n",
    "\n",
    "### Reciprocal Image of a compound eye\n",
    "Let's use the same function as before to look at the reciprocal image of a vinegar fly eye. Notice the repeating hotspots in the reciprocal"
   ]
  },
  {
   "cell_type": "code",
   "execution_count": null,
   "id": "56914268",
   "metadata": {},
   "outputs": [],
   "source": [
    "PIXEL_SIZE = (488.84896*2)**-1\n",
    "\n",
    "img = plt.imread(\"ommatidia_sample.png\")\n",
    "img = 1 - img[..., 0]\n",
    "img -= img.mean()\n",
    "img /= img.std()\n",
    "xs = np.arange(img.shape[0]) * PIXEL_SIZE\n",
    "ys = np.arange(img.shape[1]) * PIXEL_SIZE\n",
    "xs, ys = np.meshgrid(xs, ys)\n",
    "process_reciprocal(img, xs, ys, num_gratings=3)"
   ]
  },
  {
   "cell_type": "markdown",
   "id": "a21bbb8a",
   "metadata": {},
   "source": [
    "# But notice the error!\n",
    "There's noise in the background of the reciprocal image that can lead to errors in peak finding. Let's modify the function, adding a stage of 2D cross-correlation to amplify the 2D recurring nature of these maxima."
   ]
  },
  {
   "cell_type": "code",
   "execution_count": null,
   "id": "a7cb9290",
   "metadata": {},
   "outputs": [],
   "source": [
    "help(process_reciprocal_smooth)"
   ]
  },
  {
   "cell_type": "markdown",
   "id": "d8a02dfe",
   "metadata": {},
   "source": [
    "### Example Ommatidia \n",
    "Let's test the new function on a section of a compound eye passed through a guassian window to avoid edge artifacts. Notice how adding the autocorrelation step improved the signal-to-noise ratio of the maxima in the reciprocal image. Still, it "
   ]
  },
  {
   "cell_type": "code",
   "execution_count": null,
   "id": "08db25fc",
   "metadata": {},
   "outputs": [],
   "source": [
    "# %matplotlib qt\n",
    "PIXEL_SIZE = (488.84896*2)**-1\n",
    "#PIXEL_SIZE = 1\n",
    "\n",
    "img = plt.imread(\"ommatidia_sample.png\")\n",
    "img = 1 - img[..., 0]\n",
    "img -= img.mean()\n",
    "# apply gaussian window\n",
    "width, height = img.shape[:2]\n",
    "gwindow = np.meshgrid(\n",
    "    gaussian(width, .2*width),\n",
    "    gaussian(height, .2*height))\n",
    "gwindow = np.product(gwindow, axis=0)\n",
    "img *= gwindow\n",
    "\n",
    "xs = np.arange(img.shape[0]) * PIXEL_SIZE\n",
    "ys = np.arange(img.shape[1]) * PIXEL_SIZE\n",
    "xs, ys = np.meshgrid(xs, ys)\n",
    "reciprocal, xfreqs, yfreqs, results = process_reciprocal_smooth(img, xs, ys, num_gratings=3)"
   ]
  },
  {
   "cell_type": "code",
   "execution_count": null,
   "id": "881bcc12",
   "metadata": {},
   "outputs": [],
   "source": [
    "#%matplotlib inline\n",
    "fundamental_freq = results['total_freq'].mean()\n",
    "dist = 1.25 * fundamental_freq # from above\n",
    "spatial_freqs = np.sqrt(xfreqs**2 + yfreqs**2)\n",
    "power = abs(reciprocal)**2\n",
    "power_cross = signal.correlate(power, power, method='fft', mode='same')\n",
    "# make figure with 5 subplots\n",
    "fig, axes = plt.subplots(nrows=5, figsize=(3, 15))\n",
    "for ax in axes:\n",
    "    ax.set_aspect('equal')\n",
    "    ax.set_xticks([])\n",
    "    ax.set_yticks([])\n",
    "# 1. plot the reciprocal image\n",
    "axes[0].pcolormesh(xfreqs, yfreqs, power, norm=matplotlib.colors.LogNorm(), shading='auto')\n",
    "axes[0].set_title('Reciprocal Image')\n",
    "# 2. plot the smoothed reciprocal image\n",
    "axes[1].set_title('Autocorrelation')\n",
    "axes[1].pcolormesh(xfreqs, yfreqs, power_cross, norm=matplotlib.colors.LogNorm(), shading='auto')\n",
    "d = 2*dist\n",
    "axes[1].plot([-d, d, d, -d, -d], [-d, -d, d, d, -d], color='w')\n",
    "# 3. zoom in on smoothed reciprocal image\n",
    "axes[2].set_title('Autocorrelation\\n(Zoomed In)')\n",
    "axes[2].pcolormesh(xfreqs, yfreqs, power_cross, norm=matplotlib.colors.LogNorm(), shading='auto')\n",
    "axes[2].set_xlim(-d, d)\n",
    "axes[2].set_ylim(-d, d)\n",
    "# 4. plot spatial freqs\n",
    "filt = spatial_freqs < dist\n",
    "axes[3].set_title('Reciprocal Filtered \\nFFT(Zoomed In)')\n",
    "axes[3].pcolormesh(xfreqs, yfreqs, power * filt, norm=matplotlib.colors.LogNorm(), shading='auto')\n",
    "axes[3].set_xlim(-d, d)\n",
    "axes[3].set_ylim(-d, d)\n",
    "# 5. plot inverse FFT of filtered reciprocal\n",
    "new_fft = reciprocal * filt\n",
    "new_fft = np.fft.fftshift(new_fft)\n",
    "new_img = np.fft.ifft2(new_fft)\n",
    "axes[4].set_title('iFFT(Reciprocal\\nFiltered)')\n",
    "axes[4].imshow(new_img.real, cmap='Greys')\n",
    "plt.tight_layout()"
   ]
  },
  {
   "cell_type": "markdown",
   "id": "ac03ac62",
   "metadata": {},
   "source": [
    "### Measuring ommatidia\n",
    "We use the fundamental grating frequencies from earlier to generate 1) a frequency filter applied to the FFT of the original image and 2) a minimum distance threshold for peak finding. The iFFT of the Filtered FFT is a smoothed version of the original image without details smaller than the ommatidia. The bright spots in the iFFT(Reciprocal Filtered) align consistently with the ommatidia centers. Finally, we use a peak finding algorithm excluding any distances smaller than  "
   ]
  },
  {
   "cell_type": "code",
   "execution_count": null,
   "id": "d6a9bc53",
   "metadata": {},
   "outputs": [],
   "source": [
    "fig, axes = plt.subplots(ncols=2, figsize=(12, 6))\n",
    "smooth_ax, original_ax = axes\n",
    "# plot the new, smoothed image\n",
    "smooth_ax.imshow(new_img.real, cmap='Greys')\n",
    "smooth_ax.set_title('Smoothed Image')\n",
    "smooth_ax.set_xticks([])\n",
    "smooth_ax.set_yticks([])\n",
    "# plot the original image\n",
    "original_ax.imshow(img, cmap='Greys')\n",
    "original_ax.set_title('Original Image')\n",
    "original_ax.set_xticks([])\n",
    "original_ax.set_xticks([])\n",
    "original_ax.set_yticks([])\n",
    "# find peaks with distances substantially greater than the diameter and superimpose on original image\n",
    "diameter = 1 / fundamental_freq\n",
    "min_dist = diameter / 3\n",
    "min_dist /= PIXEL_SIZE\n",
    "peaks = feature.peak_local_max(new_img.real, min_distance=round(min_dist))\n",
    "ys, xs = peaks.T\n",
    "original_ax.scatter(xs, ys, color=red, marker='+')\n"
   ]
  }
 ],
 "metadata": {
  "kernelspec": {
   "display_name": "Python 3",
   "language": "python",
   "name": "python3"
  },
  "language_info": {
   "codemirror_mode": {
    "name": "ipython",
    "version": 3
   },
   "file_extension": ".py",
   "mimetype": "text/x-python",
   "name": "python",
   "nbconvert_exporter": "python",
   "pygments_lexer": "ipython3",
   "version": "3.10.9 (tags/v3.10.9:1dd9be6, Dec  6 2022, 20:01:21) [MSC v.1934 64 bit (AMD64)]"
  },
  "vscode": {
   "interpreter": {
    "hash": "addf79b2886ab7732beb69e03d7f384a06086818be2e366061d7aa6d16753f42"
   }
  }
 },
 "nbformat": 4,
 "nbformat_minor": 5
}
